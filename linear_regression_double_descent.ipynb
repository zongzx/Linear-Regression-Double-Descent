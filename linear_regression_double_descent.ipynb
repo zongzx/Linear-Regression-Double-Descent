{
 "cells": [
  {
   "cell_type": "code",
   "execution_count": 1,
   "id": "c72b6859",
   "metadata": {},
   "outputs": [],
   "source": [
    "import numpy as np\n",
    "from sklearn.linear_model import LinearRegression\n",
    "from sklearn.metrics import mean_squared_error\n",
    "import matplotlib.pyplot as plt"
   ]
  },
  {
   "cell_type": "markdown",
   "id": "ca5fd004",
   "metadata": {},
   "source": [
    "## Generate $X$, $\\beta$ and $Y$"
   ]
  },
  {
   "cell_type": "code",
   "execution_count": 2,
   "id": "f7eca542",
   "metadata": {},
   "outputs": [],
   "source": [
    "def generate_dataset(number_of_data_points=1000, dim=1000, sigma=0.1):\n",
    "    X = np.random.normal(0, 1, size=(number_of_data_points, dim))\n",
    "    beta = np.random.normal(0, 1, size=(dim,)) # normal distribution\n",
    "    #beta = np.random.uniform(0, 1, size=(dim,)) # uniform distribution\n",
    "    beta /= np.sqrt(np.sum(beta ** 2))\n",
    "    noise = np.random.normal(0, sigma, size=(number_of_data_points,))\n",
    "    Y = X @ beta + noise\n",
    "    return X, Y\n",
    "\n",
    "def split_dataset(X, Y, training_size, testing_size):\n",
    "    X, Y = generate_dataset(training_size + testing_size)\n",
    "    X_test = X[:testing_size,]\n",
    "    X_train = X[testing_size:,]\n",
    "    Y_test = Y[:testing_size]\n",
    "    Y_train = Y[testing_size:]\n",
    "    return X_train, Y_train, X_test, Y_test\n",
    "\n",
    "def predict(X_train, Y_train, X_test, Y_test, dim=1000):\n",
    "    if (training_size < dim):\n",
    "        # pseudo inverse\n",
    "        beta_prime = np.linalg.pinv(X_train) @ Y_train\n",
    "        Y_prediction = X_test @ beta_prime\n",
    "    else:  \n",
    "        # linear regression\n",
    "        reg = LinearRegression().fit(X_train, Y_train)\n",
    "        Y_prediction = reg.predict(X_test)\n",
    "    return mean_squared_error(Y_prediction, Y_test)"
   ]
  },
  {
   "cell_type": "code",
   "execution_count": 20,
   "id": "f5b6d2a0",
   "metadata": {},
   "outputs": [],
   "source": [
    "training_size_list = np.array([i for i in range(100, 900, 100)])\n",
    "training_size_list = np.hstack((training_size_list, [i for i in range(900, 1100, 10)]))\n",
    "training_size_list = np.hstack((training_size_list, [i for i in range(1100, 2100, 100)]))\n",
    "\n",
    "testing_size = 10000"
   ]
  },
  {
   "cell_type": "code",
   "execution_count": 21,
   "id": "0adc0383",
   "metadata": {},
   "outputs": [],
   "source": [
    "results = np.zeros((training_size_list.shape[0],))\n",
    "for i, training_size in enumerate(training_size_list):\n",
    "    X, Y = generate_dataset(training_size + testing_size)\n",
    "    X_train, Y_train, X_test, Y_test = split_dataset(X, Y, training_size, testing_size)\n",
    "    results[i] = predict(X_train, Y_train, X_test, Y_test)"
   ]
  },
  {
   "cell_type": "code",
   "execution_count": 24,
   "id": "6fd69a9e",
   "metadata": {},
   "outputs": [
    {
     "data": {
      "image/png": "[encoded data removed]",
      "text/plain": [
       "<Figure size 432x360 with 1 Axes>"
      ]
     },
     "metadata": {
      "needs_background": "light"
     },
     "output_type": "display_data"
    }
   ],
   "source": [
    "fig = plt.figure(figsize=(6, 5))\n",
    "ax = fig.add_subplot(111)\n",
    "ax.set_xlabel('Number of Samples')\n",
    "ax.set_ylabel('Mean Square Error')\n",
    "ax.plot(training_size_list, results)\n",
    "plt.show()"
   ]
  }
 ],
 "metadata": {
  "kernelspec": {
   "display_name": "Python 3 (ipykernel)",
   "language": "python",
   "name": "python3"
  },
  "language_info": {
   "codemirror_mode": {
    "name": "ipython",
    "version": 3
   },
   "file_extension": ".py",
   "mimetype": "text/x-python",
   "name": "python",
   "nbconvert_exporter": "python",
   "pygments_lexer": "ipython3",
   "version": "3.9.12"
  }
 },
 "nbformat": 4,
 "nbformat_minor": 5
}
